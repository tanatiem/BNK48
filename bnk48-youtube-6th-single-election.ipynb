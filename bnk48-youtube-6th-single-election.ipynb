{
 "cells": [
  {
   "cell_type": "markdown",
   "metadata": {},
   "source": [
    "# BNK48 - 6th Single Election Youtube Videos"
   ]
  },
  {
   "cell_type": "code",
   "execution_count": 1,
   "metadata": {},
   "outputs": [],
   "source": [
    "import pandas as pd\n",
    "import numpy as np\n",
    "import json\n",
    "import re\n",
    "from datetime import datetime\n",
    "\n",
    "from apiclient.discovery import build\n",
    "\n",
    "import matplotlib.pyplot as plt\n",
    "import seaborn as sns\n",
    "from IPython.core.display import display, HTML\n",
    "\n",
    "import warnings\n",
    "warnings.filterwarnings('ignore')"
   ]
  },
  {
   "cell_type": "markdown",
   "metadata": {},
   "source": [
    "## Creating a Youtube service client\n",
    "In order to call Youtube Data API to extract the required data, we need an **API Key**.<br/>\n",
    "If you do not have one, follow the instruction on: https://developers.google.com/youtube/v3/getting-started"
   ]
  },
  {
   "cell_type": "code",
   "execution_count": 2,
   "metadata": {},
   "outputs": [],
   "source": [
    "with open('./config.json') as f:\n",
    "    config = json.load(f)\n",
    "    \n",
    "api_key = config['youtube']['api_key'] # or your api key\n",
    "\n",
    "# Creating the client\n",
    "client = build('youtube', 'v3', developerKey=api_key)"
   ]
  },
  {
   "cell_type": "markdown",
   "metadata": {},
   "source": [
    "## Channel Information"
   ]
  },
  {
   "cell_type": "code",
   "execution_count": 3,
   "metadata": {},
   "outputs": [],
   "source": [
    "channel_id = 'UClIsaGq7vBEW00ASqwQyzPw'\n",
    "\n",
    "res = client.channels().list(\n",
    "    part='snippet,contentDetails,statistics',\n",
    "    id=channel_id\n",
    ").execute()"
   ]
  },
  {
   "cell_type": "code",
   "execution_count": 4,
   "metadata": {},
   "outputs": [
    {
     "data": {
      "text/html": [
       "\n",
       "<table>\n",
       "<tr><td></td><td style=\"text-align:left\"><img src=\"https://yt3.ggpht.com/a-/AN66SAyx4MXk7qMsSu4VEBkvR8P3MqifDL1TAT4GGg=s88-mo-c-c0xffffffff-rj-k-no\"/></td></tr>\n",
       "<tr><td style=\"font-weight:bold\">Channel</td><td style=\"text-align:left\"><a href=\"https://www.youtube.com/channel/UClIsaGq7vBEW00ASqwQyzPw\">BNK48</a></td></tr>\n",
       "<tr><td style=\"font-weight:bold\">Description</td><td style=\"text-align:left\">BNK48 Official YouTube Channel</td></tr>\n",
       "<tr><td style=\"font-weight:bold\">Published at</td><td style=\"text-align:left\">Mar 16, 2016</td></tr>\n",
       "<tr><td style=\"font-weight:bold\">Subscribers</td><td style=\"text-align:left\">1,479,527</td></tr>\n",
       "<tr><td style=\"font-weight:bold\">Total View</td><td style=\"text-align:left\">305,821,619</td></tr>\n",
       "<tr><td style=\"font-weight:bold\">Videos</td><td style=\"text-align:left\">343</td></tr>\n",
       "</table>\n"
      ],
      "text/plain": [
       "<IPython.core.display.HTML object>"
      ]
     },
     "metadata": {},
     "output_type": "display_data"
    }
   ],
   "source": [
    "def parse_date(datestring):\n",
    "    return datetime.strptime(datestring, \"%Y-%m-%dT%H:%M:%S.%fZ\")\n",
    "\n",
    "title = res['items'][0]['snippet']['title']\n",
    "description = res['items'][0]['snippet']['description']\n",
    "publishedAt = parse_date(res['items'][0]['snippet']['publishedAt'])\n",
    "imgurl = res['items'][0]['snippet']['thumbnails']['default']['url']\n",
    "\n",
    "all_playlist_id = res['items'][0]['contentDetails']['relatedPlaylists']['uploads']\n",
    "\n",
    "viewCount = int(res['items'][0]['statistics']['viewCount'])\n",
    "subscriberCount = int(res['items'][0]['statistics']['subscriberCount'])\n",
    "videoCount = int(res['items'][0]['statistics']['videoCount'])\n",
    "\n",
    "html = \"\"\"\n",
    "<table>\n",
    "<tr><td></td><td style=\"text-align:left\"><img src=\"{1}\"/></td></tr>\n",
    "<tr><td style=\"font-weight:bold\">Channel</td><td style=\"text-align:left\"><a href=\"https://www.youtube.com/channel/{0}\">{2}</a></td></tr>\n",
    "<tr><td style=\"font-weight:bold\">Description</td><td style=\"text-align:left\">{3}</td></tr>\n",
    "<tr><td style=\"font-weight:bold\">Published at</td><td style=\"text-align:left\">{4}</td></tr>\n",
    "<tr><td style=\"font-weight:bold\">Subscribers</td><td style=\"text-align:left\">{5:,}</td></tr>\n",
    "<tr><td style=\"font-weight:bold\">Total View</td><td style=\"text-align:left\">{6:,}</td></tr>\n",
    "<tr><td style=\"font-weight:bold\">Videos</td><td style=\"text-align:left\">{7:,}</td></tr>\n",
    "</table>\n",
    "\"\"\".format(channel_id, imgurl, title, description, datetime.strftime(publishedAt, '%b %d, %Y'), \n",
    "           subscriberCount, viewCount, videoCount)\n",
    "\n",
    "display(HTML(html))"
   ]
  },
  {
   "cell_type": "markdown",
   "metadata": {},
   "source": [
    "### Channel Playlists"
   ]
  },
  {
   "cell_type": "code",
   "execution_count": 5,
   "metadata": {},
   "outputs": [],
   "source": [
    "def get_youtube_list_items(resource, part, **kwargs):\n",
    "    \"\"\" \n",
    "    Call list() method of the designated resource param (e.g. playlistItems(), videos(), etc.)\n",
    "    Then iterate through the entire paginated result set using pageToken parameter.\n",
    "    Extract and accumulate the content inside the 'items' key.\n",
    "    \"\"\"\n",
    "    res = resource.list(part=part, **kwargs).execute()\n",
    "    items = res['items']\n",
    "    nextPageToken = res.get('nextPageToken','')\n",
    "    while nextPageToken:\n",
    "        res = resource.list(part=part, pageToken=nextPageToken, \n",
    "                            **kwargs).execute()\n",
    "        items = items + res['items']\n",
    "        nextPageToken = res.get('nextPageToken','')\n",
    "    return items"
   ]
  },
  {
   "cell_type": "code",
   "execution_count": 6,
   "metadata": {},
   "outputs": [],
   "source": [
    "items = get_youtube_list_items(client.playlists(), part='snippet,contentDetails',\n",
    "                             channelId=channel_id, maxResults=50)\n",
    "# res = client.playlists().list(part='snippet,contentDetails',\n",
    "#                              channelId=channel_id, maxResults=50\n",
    "#                              ).execute()"
   ]
  },
  {
   "cell_type": "code",
   "execution_count": 7,
   "metadata": {},
   "outputs": [],
   "source": [
    "playlist_df = pd.DataFrame(list(map(lambda item: dict(\n",
    "    id = item['id'],\n",
    "    title = item['snippet']['title'],\n",
    "    image = item['snippet']['thumbnails']['default']['url'],\n",
    "    publishedAt = parse_date(item['snippet']['publishedAt']),\n",
    "    itemCount = item['contentDetails']['itemCount']\n",
    "), items)))"
   ]
  },
  {
   "cell_type": "code",
   "execution_count": 8,
   "metadata": {},
   "outputs": [],
   "source": [
    "# table display\n",
    "pd.set_option('display.max_colwidth', -1)\n",
    "\n",
    "# CSS for table display\n",
    "th_props = [\n",
    "  ('padding','4px 4px'),\n",
    "  ('font-weight', 'bold'),\n",
    "  ('color', '#6d6d6d'),\n",
    "  ('background-color', '#f7f7f9')\n",
    "]\n",
    "\n",
    "td_props = [\n",
    "    ('padding','2px 4px'),\n",
    "    ('font-size','smaller')\n",
    "]\n",
    "img_props = [\n",
    "    ('width','auto'),\n",
    "    ('height','75%')\n",
    "]\n",
    "styles = [\n",
    "    dict(selector='th', props=th_props),\n",
    "    dict(selector='td', props=td_props),\n",
    "    dict(selector='img', props=img_props),\n",
    "    dict(selector='tr:nth-child(even)', props=[('background','#f7f7f9')])\n",
    "]\n",
    "\n",
    "formatters = {'View': '{:,}','Image':'<img src=\"{}\"/>',\n",
    "                '% Liked': '{:.2f}%', '% Disliked': '{:.2f}%', \n",
    "                '% Commented': '{:.2f}%'}"
   ]
  },
  {
   "cell_type": "code",
   "execution_count": 9,
   "metadata": {},
   "outputs": [
    {
     "data": {
      "text/html": [
       "<style  type=\"text/css\" >\n",
       "    #T_9e7e95c8_ebe7_11e8_b12a_ed960abbbf28 th {\n",
       "          padding: 4px 4px;\n",
       "          font-weight: bold;\n",
       "          color: #6d6d6d;\n",
       "          background-color: #f7f7f9;\n",
       "    }    #T_9e7e95c8_ebe7_11e8_b12a_ed960abbbf28 td {\n",
       "          padding: 2px 4px;\n",
       "          font-size: smaller;\n",
       "    }    #T_9e7e95c8_ebe7_11e8_b12a_ed960abbbf28 img {\n",
       "          width: auto;\n",
       "          height: 75%;\n",
       "    }    #T_9e7e95c8_ebe7_11e8_b12a_ed960abbbf28 tr:nth-child(even) {\n",
       "          background: #f7f7f9;\n",
       "    }</style>  \n",
       "<table id=\"T_9e7e95c8_ebe7_11e8_b12a_ed960abbbf28\" > \n",
       "<thead>    <tr> \n",
       "        <th class=\"blank level0\" ></th> \n",
       "        <th class=\"col_heading level0 col0\" >Image</th> \n",
       "        <th class=\"col_heading level0 col1\" >Playlist</th> \n",
       "        <th class=\"col_heading level0 col2\" >Video Count</th> \n",
       "        <th class=\"col_heading level0 col3\" >Published Date</th> \n",
       "        <th class=\"col_heading level0 col4\" >ID</th> \n",
       "    </tr></thead> \n",
       "<tbody>    <tr> \n",
       "        <th id=\"T_9e7e95c8_ebe7_11e8_b12a_ed960abbbf28level0_row0\" class=\"row_heading level0 row0\" >1</th> \n",
       "        <td id=\"T_9e7e95c8_ebe7_11e8_b12a_ed960abbbf28row0_col0\" class=\"data row0 col0\" ><img src=\"https://i.ytimg.com/vi/PlBmrf9NvFA/default.jpg\"/></td> \n",
       "        <td id=\"T_9e7e95c8_ebe7_11e8_b12a_ed960abbbf28row0_col1\" class=\"data row0 col1\" >BNK48 6th Single Senbatsu General Election Appeal Comment</td> \n",
       "        <td id=\"T_9e7e95c8_ebe7_11e8_b12a_ed960abbbf28row0_col2\" class=\"data row0 col2\" >51</td> \n",
       "        <td id=\"T_9e7e95c8_ebe7_11e8_b12a_ed960abbbf28row0_col3\" class=\"data row0 col3\" >2018-11-13 03:17:13</td> \n",
       "        <td id=\"T_9e7e95c8_ebe7_11e8_b12a_ed960abbbf28row0_col4\" class=\"data row0 col4\" >PLPW9IgM1jwds4YyhRhtnoRDOGobY3SoU3</td> \n",
       "    </tr>    <tr> \n",
       "        <th id=\"T_9e7e95c8_ebe7_11e8_b12a_ed960abbbf28level0_row1\" class=\"row_heading level0 row1\" >2</th> \n",
       "        <td id=\"T_9e7e95c8_ebe7_11e8_b12a_ed960abbbf28row1_col0\" class=\"data row1 col0\" ><img src=\"https://i.ytimg.com/vi/xSLA3JDzO40/default.jpg\"/></td> \n",
       "        <td id=\"T_9e7e95c8_ebe7_11e8_b12a_ed960abbbf28row1_col1\" class=\"data row1 col1\" >Cherprang Vlog</td> \n",
       "        <td id=\"T_9e7e95c8_ebe7_11e8_b12a_ed960abbbf28row1_col2\" class=\"data row1 col2\" >5</td> \n",
       "        <td id=\"T_9e7e95c8_ebe7_11e8_b12a_ed960abbbf28row1_col3\" class=\"data row1 col3\" >2018-09-15 17:41:16</td> \n",
       "        <td id=\"T_9e7e95c8_ebe7_11e8_b12a_ed960abbbf28row1_col4\" class=\"data row1 col4\" >PLPW9IgM1jwdvXhtdR2vXYlfPnTdIV21oW</td> \n",
       "    </tr>    <tr> \n",
       "        <th id=\"T_9e7e95c8_ebe7_11e8_b12a_ed960abbbf28level0_row2\" class=\"row_heading level0 row2\" >3</th> \n",
       "        <td id=\"T_9e7e95c8_ebe7_11e8_b12a_ed960abbbf28row2_col0\" class=\"data row2 col0\" ><img src=\"https://i.ytimg.com/vi/Lp0AyFwYR44/default.jpg\"/></td> \n",
       "        <td id=\"T_9e7e95c8_ebe7_11e8_b12a_ed960abbbf28row2_col1\" class=\"data row2 col1\" >KhunKai’s Kitchen</td> \n",
       "        <td id=\"T_9e7e95c8_ebe7_11e8_b12a_ed960abbbf28row2_col2\" class=\"data row2 col2\" >30</td> \n",
       "        <td id=\"T_9e7e95c8_ebe7_11e8_b12a_ed960abbbf28row2_col3\" class=\"data row2 col3\" >2018-09-03 04:49:01</td> \n",
       "        <td id=\"T_9e7e95c8_ebe7_11e8_b12a_ed960abbbf28row2_col4\" class=\"data row2 col4\" >PLPW9IgM1jwdth75t8dTbE8F3VpDNwC6Bj</td> \n",
       "    </tr>    <tr> \n",
       "        <th id=\"T_9e7e95c8_ebe7_11e8_b12a_ed960abbbf28level0_row3\" class=\"row_heading level0 row3\" >4</th> \n",
       "        <td id=\"T_9e7e95c8_ebe7_11e8_b12a_ed960abbbf28row3_col0\" class=\"data row3 col0\" ><img src=\"https://i.ytimg.com/vi/x7Dq6P-OmW8/default.jpg\"/></td> \n",
       "        <td id=\"T_9e7e95c8_ebe7_11e8_b12a_ed960abbbf28row3_col1\" class=\"data row3 col1\" >เพื่อนร่วมทาง The Journey</td> \n",
       "        <td id=\"T_9e7e95c8_ebe7_11e8_b12a_ed960abbbf28row3_col2\" class=\"data row3 col2\" >39</td> \n",
       "        <td id=\"T_9e7e95c8_ebe7_11e8_b12a_ed960abbbf28row3_col3\" class=\"data row3 col3\" >2018-01-11 16:47:09</td> \n",
       "        <td id=\"T_9e7e95c8_ebe7_11e8_b12a_ed960abbbf28row3_col4\" class=\"data row3 col4\" >PLPW9IgM1jwdt1go717kwU0cUJkIsYI2yf</td> \n",
       "    </tr>    <tr> \n",
       "        <th id=\"T_9e7e95c8_ebe7_11e8_b12a_ed960abbbf28level0_row4\" class=\"row_heading level0 row4\" >5</th> \n",
       "        <td id=\"T_9e7e95c8_ebe7_11e8_b12a_ed960abbbf28row4_col0\" class=\"data row4 col0\" ><img src=\"https://i.ytimg.com/vi/zdgemowocu8/default.jpg\"/></td> \n",
       "        <td id=\"T_9e7e95c8_ebe7_11e8_b12a_ed960abbbf28row4_col1\" class=\"data row4 col1\" >Music Video</td> \n",
       "        <td id=\"T_9e7e95c8_ebe7_11e8_b12a_ed960abbbf28row4_col2\" class=\"data row4 col2\" >7</td> \n",
       "        <td id=\"T_9e7e95c8_ebe7_11e8_b12a_ed960abbbf28row4_col3\" class=\"data row4 col3\" >2018-01-07 07:07:49</td> \n",
       "        <td id=\"T_9e7e95c8_ebe7_11e8_b12a_ed960abbbf28row4_col4\" class=\"data row4 col4\" >PLPW9IgM1jwduLMYMA6x3K6ExwDntxE-qP</td> \n",
       "    </tr>    <tr> \n",
       "        <th id=\"T_9e7e95c8_ebe7_11e8_b12a_ed960abbbf28level0_row5\" class=\"row_heading level0 row5\" >6</th> \n",
       "        <td id=\"T_9e7e95c8_ebe7_11e8_b12a_ed960abbbf28row5_col0\" class=\"data row5 col0\" ><img src=\"https://i.ytimg.com/vi/kMKIybO_1Pw/default.jpg\"/></td> \n",
       "        <td id=\"T_9e7e95c8_ebe7_11e8_b12a_ed960abbbf28row5_col1\" class=\"data row5 col1\" >BNK48 We Wish You! A Merry Christmas –Fan Meet–</td> \n",
       "        <td id=\"T_9e7e95c8_ebe7_11e8_b12a_ed960abbbf28row5_col2\" class=\"data row5 col2\" >10</td> \n",
       "        <td id=\"T_9e7e95c8_ebe7_11e8_b12a_ed960abbbf28row5_col3\" class=\"data row5 col3\" >2018-01-07 07:05:03</td> \n",
       "        <td id=\"T_9e7e95c8_ebe7_11e8_b12a_ed960abbbf28row5_col4\" class=\"data row5 col4\" >PLPW9IgM1jwds1P4bMZRwJ4lnin-m9MXMG</td> \n",
       "    </tr>    <tr> \n",
       "        <th id=\"T_9e7e95c8_ebe7_11e8_b12a_ed960abbbf28level0_row6\" class=\"row_heading level0 row6\" >7</th> \n",
       "        <td id=\"T_9e7e95c8_ebe7_11e8_b12a_ed960abbbf28row6_col0\" class=\"data row6 col0\" ><img src=\"https://i.ytimg.com/vi/ZR5uKlDArww/default.jpg\"/></td> \n",
       "        <td id=\"T_9e7e95c8_ebe7_11e8_b12a_ed960abbbf28row6_col1\" class=\"data row6 col1\" >BNK48 Mini Live and Handshake</td> \n",
       "        <td id=\"T_9e7e95c8_ebe7_11e8_b12a_ed960abbbf28row6_col2\" class=\"data row6 col2\" >5</td> \n",
       "        <td id=\"T_9e7e95c8_ebe7_11e8_b12a_ed960abbbf28row6_col3\" class=\"data row6 col3\" >2017-11-21 10:33:13</td> \n",
       "        <td id=\"T_9e7e95c8_ebe7_11e8_b12a_ed960abbbf28row6_col4\" class=\"data row6 col4\" >PLPW9IgM1jwduNanV2hswU7WjPCgMg5LJB</td> \n",
       "    </tr>    <tr> \n",
       "        <th id=\"T_9e7e95c8_ebe7_11e8_b12a_ed960abbbf28level0_row7\" class=\"row_heading level0 row7\" >8</th> \n",
       "        <td id=\"T_9e7e95c8_ebe7_11e8_b12a_ed960abbbf28row7_col0\" class=\"data row7 col0\" ><img src=\"https://i.ytimg.com/vi/4AGt_BxDfjc/default.jpg\"/></td> \n",
       "        <td id=\"T_9e7e95c8_ebe7_11e8_b12a_ed960abbbf28row7_col1\" class=\"data row7 col1\" >BNK48 Free Time</td> \n",
       "        <td id=\"T_9e7e95c8_ebe7_11e8_b12a_ed960abbbf28row7_col2\" class=\"data row7 col2\" >2</td> \n",
       "        <td id=\"T_9e7e95c8_ebe7_11e8_b12a_ed960abbbf28row7_col3\" class=\"data row7 col3\" >2017-09-15 13:30:16</td> \n",
       "        <td id=\"T_9e7e95c8_ebe7_11e8_b12a_ed960abbbf28row7_col4\" class=\"data row7 col4\" >PLPW9IgM1jwdvgxEycT7HsH9caHJ8phnQt</td> \n",
       "    </tr>    <tr> \n",
       "        <th id=\"T_9e7e95c8_ebe7_11e8_b12a_ed960abbbf28level0_row8\" class=\"row_heading level0 row8\" >9</th> \n",
       "        <td id=\"T_9e7e95c8_ebe7_11e8_b12a_ed960abbbf28row8_col0\" class=\"data row8 col0\" ><img src=\"https://i.ytimg.com/vi/aFZJk4FUSxc/default.jpg\"/></td> \n",
       "        <td id=\"T_9e7e95c8_ebe7_11e8_b12a_ed960abbbf28row8_col1\" class=\"data row8 col1\" >BNK48 SHOW</td> \n",
       "        <td id=\"T_9e7e95c8_ebe7_11e8_b12a_ed960abbbf28row8_col2\" class=\"data row8 col2\" >52</td> \n",
       "        <td id=\"T_9e7e95c8_ebe7_11e8_b12a_ed960abbbf28row8_col3\" class=\"data row8 col3\" >2017-07-10 11:02:14</td> \n",
       "        <td id=\"T_9e7e95c8_ebe7_11e8_b12a_ed960abbbf28row8_col4\" class=\"data row8 col4\" >PLPW9IgM1jwduwDVmNQrQvMVR2y0Npa06E</td> \n",
       "    </tr>    <tr> \n",
       "        <th id=\"T_9e7e95c8_ebe7_11e8_b12a_ed960abbbf28level0_row9\" class=\"row_heading level0 row9\" >10</th> \n",
       "        <td id=\"T_9e7e95c8_ebe7_11e8_b12a_ed960abbbf28row9_col0\" class=\"data row9 col0\" ><img src=\"https://i.ytimg.com/vi/ooyxicrZW_s/default.jpg\"/></td> \n",
       "        <td id=\"T_9e7e95c8_ebe7_11e8_b12a_ed960abbbf28row9_col1\" class=\"data row9 col1\" >29 Seconds of 29 members</td> \n",
       "        <td id=\"T_9e7e95c8_ebe7_11e8_b12a_ed960abbbf28row9_col2\" class=\"data row9 col2\" >29</td> \n",
       "        <td id=\"T_9e7e95c8_ebe7_11e8_b12a_ed960abbbf28row9_col3\" class=\"data row9 col3\" >2017-04-30 18:15:04</td> \n",
       "        <td id=\"T_9e7e95c8_ebe7_11e8_b12a_ed960abbbf28row9_col4\" class=\"data row9 col4\" >PLPW9IgM1jwdt9NmUwhwcs8xBDC10fVqhL</td> \n",
       "    </tr>    <tr> \n",
       "        <th id=\"T_9e7e95c8_ebe7_11e8_b12a_ed960abbbf28level0_row10\" class=\"row_heading level0 row10\" >11</th> \n",
       "        <td id=\"T_9e7e95c8_ebe7_11e8_b12a_ed960abbbf28row10_col0\" class=\"data row10 col0\" ><img src=\"https://i.ytimg.com/vi/L6HgZqp-ew8/default.jpg\"/></td> \n",
       "        <td id=\"T_9e7e95c8_ebe7_11e8_b12a_ed960abbbf28row10_col1\" class=\"data row10 col1\" >BNK48 Senpai</td> \n",
       "        <td id=\"T_9e7e95c8_ebe7_11e8_b12a_ed960abbbf28row10_col2\" class=\"data row10 col2\" >55</td> \n",
       "        <td id=\"T_9e7e95c8_ebe7_11e8_b12a_ed960abbbf28row10_col3\" class=\"data row10 col3\" >2017-03-01 15:24:02</td> \n",
       "        <td id=\"T_9e7e95c8_ebe7_11e8_b12a_ed960abbbf28row10_col4\" class=\"data row10 col4\" >PLPW9IgM1jwdt95rKARywBxtFxRjMH8JzI</td> \n",
       "    </tr></tbody> \n",
       "</table> "
      ],
      "text/plain": [
       "<IPython.core.display.HTML object>"
      ]
     },
     "metadata": {},
     "output_type": "display_data"
    }
   ],
   "source": [
    "data = playlist_df[['image','title','itemCount','publishedAt', 'id']]\n",
    "data.columns = ['Image','Playlist','Video Count','Published Date','ID']\n",
    "data.index = np.arange(1, data.shape[0]+1)\n",
    "\n",
    "display(HTML(\n",
    "    data.style\n",
    "        .format(formatters)\n",
    "        .set_table_styles(styles)\n",
    "        .render()\n",
    "))"
   ]
  },
  {
   "cell_type": "markdown",
   "metadata": {},
   "source": [
    "### Playlist Items"
   ]
  },
  {
   "cell_type": "code",
   "execution_count": 11,
   "metadata": {},
   "outputs": [
    {
     "name": "stdout",
     "output_type": "stream",
     "text": [
      "Video count: 51\n"
     ]
    }
   ],
   "source": [
    "playlist_id = 'PLPW9IgM1jwds4YyhRhtnoRDOGobY3SoU3'\n",
    "\n",
    "# res = client.playlistItems().list(part='snippet',\n",
    "#                                  playlistId=playlist_id,\n",
    "#                                  maxResults=50).execute()\n",
    "\n",
    "items = get_youtube_list_items(client.playlistItems(), part='snippet', playlistId=playlist_id)\n",
    "print('Video count: {}'.format(len(items)))"
   ]
  },
  {
   "cell_type": "code",
   "execution_count": 12,
   "metadata": {},
   "outputs": [
    {
     "data": {
      "text/plain": [
       "['PlBmrf9NvFA', 'akWfxC2jI5Q', 'qh3-_pJCXPw', 'r78Ss9ObGqk', 'hVLgSOgJQ9Y']"
      ]
     },
     "execution_count": 12,
     "metadata": {},
     "output_type": "execute_result"
    }
   ],
   "source": [
    "vdo_ids = list(map(lambda item: item['snippet']['resourceId']['videoId'], items))\n",
    "vdo_ids[:5]"
   ]
  },
  {
   "cell_type": "code",
   "execution_count": 13,
   "metadata": {},
   "outputs": [
    {
     "data": {
      "text/plain": [
       "datetime.datetime(2018, 11, 19, 17, 41, 41, 91824)"
      ]
     },
     "execution_count": 13,
     "metadata": {},
     "output_type": "execute_result"
    }
   ],
   "source": [
    "# timestamp\n",
    "timestamp = datetime.now()\n",
    "timestamp_text = datetime.strftime(timestamp, '%Y%m%d_%H%M%S')\n",
    "timestamp"
   ]
  },
  {
   "cell_type": "code",
   "execution_count": 14,
   "metadata": {},
   "outputs": [
    {
     "data": {
      "text/plain": [
       "51"
      ]
     },
     "execution_count": 14,
     "metadata": {},
     "output_type": "execute_result"
    }
   ],
   "source": [
    "BATCH_SIZE = 50\n",
    "\n",
    "items = []\n",
    "curr_idx = 0\n",
    "\n",
    "# Get video info in batch\n",
    "while curr_idx <= len(vdo_ids):\n",
    "    ids = ','.join(vdo_ids[curr_idx:curr_idx+BATCH_SIZE])\n",
    "    \n",
    "    res = client.videos().list(\n",
    "        part='snippet,contentDetails,statistics',\n",
    "        id=ids\n",
    "    ).execute()\n",
    "    items = items + res['items']\n",
    "    curr_idx = curr_idx + BATCH_SIZE\n",
    "\n",
    "len(items)"
   ]
  },
  {
   "cell_type": "code",
   "execution_count": 15,
   "metadata": {},
   "outputs": [],
   "source": [
    "videos = pd.DataFrame(list(map(lambda item: dict(\n",
    "    id = item['id'],\n",
    "    title = item['snippet'].get('title', np.nan),\n",
    "    publishedDate = item['snippet'].get('publishedAt', np.nan),\n",
    "    image = item['snippet']['thumbnails']['default']['url'],\n",
    "    \n",
    "    duration = item['contentDetails'].get('duration', np.nan),\n",
    "    view = item['statistics'].get('viewCount', np.nan),\n",
    "    like = item['statistics'].get('likeCount', np.nan),\n",
    "    dislike = item['statistics'].get('dislikeCount', np.nan),\n",
    "    comment = item['statistics'].get('commentCount', np.nan)\n",
    "), items)))\n",
    "\n",
    "# videos"
   ]
  },
  {
   "cell_type": "code",
   "execution_count": 16,
   "metadata": {},
   "outputs": [
    {
     "data": {
      "text/plain": [
       "comment          0\n",
       "dislike          0\n",
       "duration         0\n",
       "id               0\n",
       "image            0\n",
       "like             0\n",
       "publishedDate    0\n",
       "title            0\n",
       "view             0\n",
       "dtype: int64"
      ]
     },
     "execution_count": 16,
     "metadata": {},
     "output_type": "execute_result"
    }
   ],
   "source": [
    "videos.isnull().sum()"
   ]
  },
  {
   "cell_type": "code",
   "execution_count": 17,
   "metadata": {},
   "outputs": [
    {
     "data": {
      "text/html": [
       "<div>\n",
       "<style scoped>\n",
       "    .dataframe tbody tr th:only-of-type {\n",
       "        vertical-align: middle;\n",
       "    }\n",
       "\n",
       "    .dataframe tbody tr th {\n",
       "        vertical-align: top;\n",
       "    }\n",
       "\n",
       "    .dataframe thead th {\n",
       "        text-align: right;\n",
       "    }\n",
       "</style>\n",
       "<table border=\"1\" class=\"dataframe\">\n",
       "  <thead>\n",
       "    <tr style=\"text-align: right;\">\n",
       "      <th></th>\n",
       "      <th>name</th>\n",
       "      <th>title</th>\n",
       "      <th>image</th>\n",
       "      <th>view</th>\n",
       "      <th>like</th>\n",
       "      <th>like_pct</th>\n",
       "      <th>dislike</th>\n",
       "      <th>dislike_pct</th>\n",
       "      <th>comment</th>\n",
       "      <th>comment_pct</th>\n",
       "      <th>duration</th>\n",
       "      <th>publishedDate</th>\n",
       "      <th>id</th>\n",
       "    </tr>\n",
       "    <tr>\n",
       "      <th>name</th>\n",
       "      <th></th>\n",
       "      <th></th>\n",
       "      <th></th>\n",
       "      <th></th>\n",
       "      <th></th>\n",
       "      <th></th>\n",
       "      <th></th>\n",
       "      <th></th>\n",
       "      <th></th>\n",
       "      <th></th>\n",
       "      <th></th>\n",
       "      <th></th>\n",
       "      <th></th>\n",
       "    </tr>\n",
       "  </thead>\n",
       "  <tbody>\n",
       "    <tr>\n",
       "      <th>Cherprang</th>\n",
       "      <td>Cherprang</td>\n",
       "      <td>BNK48 Team BⅢ｜BNK48 Captain｜Cherprang Areekul (Cherprang)</td>\n",
       "      <td>https://i.ytimg.com/vi/PlBmrf9NvFA/default.jpg</td>\n",
       "      <td>200171</td>\n",
       "      <td>11284</td>\n",
       "      <td>5.637180</td>\n",
       "      <td>208</td>\n",
       "      <td>0.103911</td>\n",
       "      <td>924</td>\n",
       "      <td>0.461605</td>\n",
       "      <td>71</td>\n",
       "      <td>2018-11-16 05:45:01</td>\n",
       "      <td>PlBmrf9NvFA</td>\n",
       "    </tr>\n",
       "    <tr>\n",
       "      <th>Tarwaan</th>\n",
       "      <td>Tarwaan</td>\n",
       "      <td>BNK48 Team BⅢ｜Isarapa Thawatpakdee (Tarwaan)</td>\n",
       "      <td>https://i.ytimg.com/vi/akWfxC2jI5Q/default.jpg</td>\n",
       "      <td>102601</td>\n",
       "      <td>4828</td>\n",
       "      <td>4.705607</td>\n",
       "      <td>41</td>\n",
       "      <td>0.039961</td>\n",
       "      <td>385</td>\n",
       "      <td>0.375240</td>\n",
       "      <td>106</td>\n",
       "      <td>2018-11-16 05:45:00</td>\n",
       "      <td>akWfxC2jI5Q</td>\n",
       "    </tr>\n",
       "    <tr>\n",
       "      <th>Jennis</th>\n",
       "      <td>Jennis</td>\n",
       "      <td>BNK48 Team BⅢ｜BNK48 Team BⅢ Vice Captain｜Jennis Oprasert (Jennis)</td>\n",
       "      <td>https://i.ytimg.com/vi/qh3-_pJCXPw/default.jpg</td>\n",
       "      <td>118209</td>\n",
       "      <td>6605</td>\n",
       "      <td>5.587561</td>\n",
       "      <td>104</td>\n",
       "      <td>0.087980</td>\n",
       "      <td>482</td>\n",
       "      <td>0.407752</td>\n",
       "      <td>80</td>\n",
       "      <td>2018-11-16 05:45:00</td>\n",
       "      <td>qh3-_pJCXPw</td>\n",
       "    </tr>\n",
       "    <tr>\n",
       "      <th>Pupe</th>\n",
       "      <td>Pupe</td>\n",
       "      <td>BNK48 Team BⅢ｜Jiradapa Intajak (Pupe)</td>\n",
       "      <td>https://i.ytimg.com/vi/r78Ss9ObGqk/default.jpg</td>\n",
       "      <td>192861</td>\n",
       "      <td>10893</td>\n",
       "      <td>5.648109</td>\n",
       "      <td>114</td>\n",
       "      <td>0.059110</td>\n",
       "      <td>1060</td>\n",
       "      <td>0.549619</td>\n",
       "      <td>98</td>\n",
       "      <td>2018-11-16 05:45:00</td>\n",
       "      <td>r78Ss9ObGqk</td>\n",
       "    </tr>\n",
       "    <tr>\n",
       "      <th>Noey</th>\n",
       "      <td>Noey</td>\n",
       "      <td>BNK48 Team BⅢ｜Kanteera Wadcharathadsanakul (Noey)</td>\n",
       "      <td>https://i.ytimg.com/vi/hVLgSOgJQ9Y/default.jpg</td>\n",
       "      <td>157532</td>\n",
       "      <td>7654</td>\n",
       "      <td>4.858695</td>\n",
       "      <td>146</td>\n",
       "      <td>0.092680</td>\n",
       "      <td>829</td>\n",
       "      <td>0.526242</td>\n",
       "      <td>140</td>\n",
       "      <td>2018-11-16 05:45:00</td>\n",
       "      <td>hVLgSOgJQ9Y</td>\n",
       "    </tr>\n",
       "  </tbody>\n",
       "</table>\n",
       "</div>"
      ],
      "text/plain": [
       "                name  \\\n",
       "name                   \n",
       "Cherprang  Cherprang   \n",
       "Tarwaan    Tarwaan     \n",
       "Jennis     Jennis      \n",
       "Pupe       Pupe        \n",
       "Noey       Noey        \n",
       "\n",
       "                                                                       title  \\\n",
       "name                                                                           \n",
       "Cherprang  BNK48 Team BⅢ｜BNK48 Captain｜Cherprang Areekul (Cherprang)           \n",
       "Tarwaan    BNK48 Team BⅢ｜Isarapa Thawatpakdee (Tarwaan)                        \n",
       "Jennis     BNK48 Team BⅢ｜BNK48 Team BⅢ Vice Captain｜Jennis Oprasert (Jennis)   \n",
       "Pupe       BNK48 Team BⅢ｜Jiradapa Intajak (Pupe)                               \n",
       "Noey       BNK48 Team BⅢ｜Kanteera Wadcharathadsanakul (Noey)                   \n",
       "\n",
       "                                                    image    view   like  \\\n",
       "name                                                                       \n",
       "Cherprang  https://i.ytimg.com/vi/PlBmrf9NvFA/default.jpg  200171  11284   \n",
       "Tarwaan    https://i.ytimg.com/vi/akWfxC2jI5Q/default.jpg  102601  4828    \n",
       "Jennis     https://i.ytimg.com/vi/qh3-_pJCXPw/default.jpg  118209  6605    \n",
       "Pupe       https://i.ytimg.com/vi/r78Ss9ObGqk/default.jpg  192861  10893   \n",
       "Noey       https://i.ytimg.com/vi/hVLgSOgJQ9Y/default.jpg  157532  7654    \n",
       "\n",
       "           like_pct  dislike  dislike_pct  comment  comment_pct  duration  \\\n",
       "name                                                                        \n",
       "Cherprang  5.637180  208      0.103911     924      0.461605     71         \n",
       "Tarwaan    4.705607  41       0.039961     385      0.375240     106        \n",
       "Jennis     5.587561  104      0.087980     482      0.407752     80         \n",
       "Pupe       5.648109  114      0.059110     1060     0.549619     98         \n",
       "Noey       4.858695  146      0.092680     829      0.526242     140        \n",
       "\n",
       "                publishedDate           id  \n",
       "name                                        \n",
       "Cherprang 2018-11-16 05:45:01  PlBmrf9NvFA  \n",
       "Tarwaan   2018-11-16 05:45:00  akWfxC2jI5Q  \n",
       "Jennis    2018-11-16 05:45:00  qh3-_pJCXPw  \n",
       "Pupe      2018-11-16 05:45:00  r78Ss9ObGqk  \n",
       "Noey      2018-11-16 05:45:00  hVLgSOgJQ9Y  "
      ]
     },
     "execution_count": 17,
     "metadata": {},
     "output_type": "execute_result"
    }
   ],
   "source": [
    "name_pattern = re.compile('\\((\\w+)\\)')\n",
    "# extract member name from video title\n",
    "def parse_name(title):\n",
    "    m = name_pattern.search(title)\n",
    "    return m.group(1)\n",
    "  \n",
    "def parse_duration(duration):\n",
    "    \"\"\" Return seconds from the duration string in iso8601 format\n",
    "        Simple conversion that does not cover the date parts of the ISO format\n",
    "    \"\"\"\n",
    "    m = re.search(r'(\\d+)H', duration)\n",
    "    dh = int(m.group(1)) if m else 0\n",
    "    \n",
    "    m = re.search(r'(\\d+)M', duration)\n",
    "    dm = int(m.group(1)) if m else 0\n",
    "    \n",
    "    m = re.search(r'(\\d+)S', duration)\n",
    "    ds = int(m.group(1)) if m else 0\n",
    "    \n",
    "    return dh*3600 + dm*60 + ds\n",
    "\n",
    "videos['name'] = videos['title'].apply(parse_name)\n",
    "videos['duration'] = videos['duration'].apply(parse_duration)\n",
    "videos['view'] = videos['view'].astype(int)\n",
    "videos['like'] = videos['like'].astype(int)\n",
    "videos['dislike'] = videos['dislike'].astype(int)\n",
    "videos['comment'] = videos['comment'].astype(int)\n",
    "videos['publishedDate'] = videos['publishedDate'].apply(parse_date)\n",
    "\n",
    "videos['like_pct'] = videos['like']/videos['view']*100\n",
    "videos['dislike_pct'] = videos['dislike']/videos['view']*100\n",
    "videos['comment_pct'] = videos['comment']/videos['view']*100\n",
    "\n",
    "videos.index = videos['name']\n",
    "videos = videos[['name','title','image','view','like','like_pct','dislike','dislike_pct',\n",
    "                  'comment','comment_pct','duration','publishedDate','id']]\n",
    "videos.head()"
   ]
  },
  {
   "cell_type": "code",
   "execution_count": 18,
   "metadata": {},
   "outputs": [],
   "source": [
    "videos.to_csv('output/6th_single_election_videos_{}.csv'.format(timestamp_text), index=False, encoding='utf-8')"
   ]
  },
  {
   "cell_type": "markdown",
   "metadata": {},
   "source": [
    "### Top 10 - Most Viewed"
   ]
  },
  {
   "cell_type": "code",
   "execution_count": 19,
   "metadata": {},
   "outputs": [
    {
     "data": {
      "text/html": [
       "<style  type=\"text/css\" >\n",
       "    #T_bbe2585c_ebe7_11e8_bbe6_ed960abbbf28 th {\n",
       "          padding: 4px 4px;\n",
       "          font-weight: bold;\n",
       "          color: #6d6d6d;\n",
       "          background-color: #f7f7f9;\n",
       "    }    #T_bbe2585c_ebe7_11e8_bbe6_ed960abbbf28 td {\n",
       "          padding: 2px 4px;\n",
       "          font-size: smaller;\n",
       "    }    #T_bbe2585c_ebe7_11e8_bbe6_ed960abbbf28 img {\n",
       "          width: auto;\n",
       "          height: 75%;\n",
       "    }    #T_bbe2585c_ebe7_11e8_bbe6_ed960abbbf28 tr:nth-child(even) {\n",
       "          background: #f7f7f9;\n",
       "    }</style>  \n",
       "<table id=\"T_bbe2585c_ebe7_11e8_bbe6_ed960abbbf28\" > \n",
       "<thead>    <tr> \n",
       "        <th class=\"blank level0\" ></th> \n",
       "        <th class=\"col_heading level0 col0\" >Image</th> \n",
       "        <th class=\"col_heading level0 col1\" >Member</th> \n",
       "        <th class=\"col_heading level0 col2\" >View</th> \n",
       "        <th class=\"col_heading level0 col3\" >% Liked</th> \n",
       "        <th class=\"col_heading level0 col4\" >% Disliked</th> \n",
       "        <th class=\"col_heading level0 col5\" >% Commented</th> \n",
       "        <th class=\"col_heading level0 col6\" >Duration</th> \n",
       "    </tr></thead> \n",
       "<tbody>    <tr> \n",
       "        <th id=\"T_bbe2585c_ebe7_11e8_bbe6_ed960abbbf28level0_row0\" class=\"row_heading level0 row0\" >1</th> \n",
       "        <td id=\"T_bbe2585c_ebe7_11e8_bbe6_ed960abbbf28row0_col0\" class=\"data row0 col0\" ><img src=\"https://i.ytimg.com/vi/PlBmrf9NvFA/default.jpg\"/></td> \n",
       "        <td id=\"T_bbe2585c_ebe7_11e8_bbe6_ed960abbbf28row0_col1\" class=\"data row0 col1\" >Cherprang</td> \n",
       "        <td id=\"T_bbe2585c_ebe7_11e8_bbe6_ed960abbbf28row0_col2\" class=\"data row0 col2\" >200,171</td> \n",
       "        <td id=\"T_bbe2585c_ebe7_11e8_bbe6_ed960abbbf28row0_col3\" class=\"data row0 col3\" >5.64%</td> \n",
       "        <td id=\"T_bbe2585c_ebe7_11e8_bbe6_ed960abbbf28row0_col4\" class=\"data row0 col4\" >0.10%</td> \n",
       "        <td id=\"T_bbe2585c_ebe7_11e8_bbe6_ed960abbbf28row0_col5\" class=\"data row0 col5\" >0.46%</td> \n",
       "        <td id=\"T_bbe2585c_ebe7_11e8_bbe6_ed960abbbf28row0_col6\" class=\"data row0 col6\" >71</td> \n",
       "    </tr>    <tr> \n",
       "        <th id=\"T_bbe2585c_ebe7_11e8_bbe6_ed960abbbf28level0_row1\" class=\"row_heading level0 row1\" >2</th> \n",
       "        <td id=\"T_bbe2585c_ebe7_11e8_bbe6_ed960abbbf28row1_col0\" class=\"data row1 col0\" ><img src=\"https://i.ytimg.com/vi/r78Ss9ObGqk/default.jpg\"/></td> \n",
       "        <td id=\"T_bbe2585c_ebe7_11e8_bbe6_ed960abbbf28row1_col1\" class=\"data row1 col1\" >Pupe</td> \n",
       "        <td id=\"T_bbe2585c_ebe7_11e8_bbe6_ed960abbbf28row1_col2\" class=\"data row1 col2\" >192,861</td> \n",
       "        <td id=\"T_bbe2585c_ebe7_11e8_bbe6_ed960abbbf28row1_col3\" class=\"data row1 col3\" >5.65%</td> \n",
       "        <td id=\"T_bbe2585c_ebe7_11e8_bbe6_ed960abbbf28row1_col4\" class=\"data row1 col4\" >0.06%</td> \n",
       "        <td id=\"T_bbe2585c_ebe7_11e8_bbe6_ed960abbbf28row1_col5\" class=\"data row1 col5\" >0.55%</td> \n",
       "        <td id=\"T_bbe2585c_ebe7_11e8_bbe6_ed960abbbf28row1_col6\" class=\"data row1 col6\" >98</td> \n",
       "    </tr>    <tr> \n",
       "        <th id=\"T_bbe2585c_ebe7_11e8_bbe6_ed960abbbf28level0_row2\" class=\"row_heading level0 row2\" >3</th> \n",
       "        <td id=\"T_bbe2585c_ebe7_11e8_bbe6_ed960abbbf28row2_col0\" class=\"data row2 col0\" ><img src=\"https://i.ytimg.com/vi/eTidHACZSZI/default.jpg\"/></td> \n",
       "        <td id=\"T_bbe2585c_ebe7_11e8_bbe6_ed960abbbf28row2_col1\" class=\"data row2 col1\" >Mobile</td> \n",
       "        <td id=\"T_bbe2585c_ebe7_11e8_bbe6_ed960abbbf28row2_col2\" class=\"data row2 col2\" >172,448</td> \n",
       "        <td id=\"T_bbe2585c_ebe7_11e8_bbe6_ed960abbbf28row2_col3\" class=\"data row2 col3\" >4.97%</td> \n",
       "        <td id=\"T_bbe2585c_ebe7_11e8_bbe6_ed960abbbf28row2_col4\" class=\"data row2 col4\" >0.09%</td> \n",
       "        <td id=\"T_bbe2585c_ebe7_11e8_bbe6_ed960abbbf28row2_col5\" class=\"data row2 col5\" >0.46%</td> \n",
       "        <td id=\"T_bbe2585c_ebe7_11e8_bbe6_ed960abbbf28row2_col6\" class=\"data row2 col6\" >127</td> \n",
       "    </tr>    <tr> \n",
       "        <th id=\"T_bbe2585c_ebe7_11e8_bbe6_ed960abbbf28level0_row3\" class=\"row_heading level0 row3\" >4</th> \n",
       "        <td id=\"T_bbe2585c_ebe7_11e8_bbe6_ed960abbbf28row3_col0\" class=\"data row3 col0\" ><img src=\"https://i.ytimg.com/vi/hVLgSOgJQ9Y/default.jpg\"/></td> \n",
       "        <td id=\"T_bbe2585c_ebe7_11e8_bbe6_ed960abbbf28row3_col1\" class=\"data row3 col1\" >Noey</td> \n",
       "        <td id=\"T_bbe2585c_ebe7_11e8_bbe6_ed960abbbf28row3_col2\" class=\"data row3 col2\" >157,532</td> \n",
       "        <td id=\"T_bbe2585c_ebe7_11e8_bbe6_ed960abbbf28row3_col3\" class=\"data row3 col3\" >4.86%</td> \n",
       "        <td id=\"T_bbe2585c_ebe7_11e8_bbe6_ed960abbbf28row3_col4\" class=\"data row3 col4\" >0.09%</td> \n",
       "        <td id=\"T_bbe2585c_ebe7_11e8_bbe6_ed960abbbf28row3_col5\" class=\"data row3 col5\" >0.53%</td> \n",
       "        <td id=\"T_bbe2585c_ebe7_11e8_bbe6_ed960abbbf28row3_col6\" class=\"data row3 col6\" >140</td> \n",
       "    </tr>    <tr> \n",
       "        <th id=\"T_bbe2585c_ebe7_11e8_bbe6_ed960abbbf28level0_row4\" class=\"row_heading level0 row4\" >5</th> \n",
       "        <td id=\"T_bbe2585c_ebe7_11e8_bbe6_ed960abbbf28row4_col0\" class=\"data row4 col0\" ><img src=\"https://i.ytimg.com/vi/V5ScG-apbSs/default.jpg\"/></td> \n",
       "        <td id=\"T_bbe2585c_ebe7_11e8_bbe6_ed960abbbf28row4_col1\" class=\"data row4 col1\" >Music</td> \n",
       "        <td id=\"T_bbe2585c_ebe7_11e8_bbe6_ed960abbbf28row4_col2\" class=\"data row4 col2\" >151,997</td> \n",
       "        <td id=\"T_bbe2585c_ebe7_11e8_bbe6_ed960abbbf28row4_col3\" class=\"data row4 col3\" >5.28%</td> \n",
       "        <td id=\"T_bbe2585c_ebe7_11e8_bbe6_ed960abbbf28row4_col4\" class=\"data row4 col4\" >0.23%</td> \n",
       "        <td id=\"T_bbe2585c_ebe7_11e8_bbe6_ed960abbbf28row4_col5\" class=\"data row4 col5\" >0.78%</td> \n",
       "        <td id=\"T_bbe2585c_ebe7_11e8_bbe6_ed960abbbf28row4_col6\" class=\"data row4 col6\" >126</td> \n",
       "    </tr>    <tr> \n",
       "        <th id=\"T_bbe2585c_ebe7_11e8_bbe6_ed960abbbf28level0_row5\" class=\"row_heading level0 row5\" >6</th> \n",
       "        <td id=\"T_bbe2585c_ebe7_11e8_bbe6_ed960abbbf28row5_col0\" class=\"data row5 col0\" ><img src=\"https://i.ytimg.com/vi/IwbuyTc4p4c/default.jpg\"/></td> \n",
       "        <td id=\"T_bbe2585c_ebe7_11e8_bbe6_ed960abbbf28row5_col1\" class=\"data row5 col1\" >Pun</td> \n",
       "        <td id=\"T_bbe2585c_ebe7_11e8_bbe6_ed960abbbf28row5_col2\" class=\"data row5 col2\" >143,408</td> \n",
       "        <td id=\"T_bbe2585c_ebe7_11e8_bbe6_ed960abbbf28row5_col3\" class=\"data row5 col3\" >6.15%</td> \n",
       "        <td id=\"T_bbe2585c_ebe7_11e8_bbe6_ed960abbbf28row5_col4\" class=\"data row5 col4\" >0.07%</td> \n",
       "        <td id=\"T_bbe2585c_ebe7_11e8_bbe6_ed960abbbf28row5_col5\" class=\"data row5 col5\" >0.50%</td> \n",
       "        <td id=\"T_bbe2585c_ebe7_11e8_bbe6_ed960abbbf28row5_col6\" class=\"data row5 col6\" >85</td> \n",
       "    </tr>    <tr> \n",
       "        <th id=\"T_bbe2585c_ebe7_11e8_bbe6_ed960abbbf28level0_row6\" class=\"row_heading level0 row6\" >7</th> \n",
       "        <td id=\"T_bbe2585c_ebe7_11e8_bbe6_ed960abbbf28row6_col0\" class=\"data row6 col0\" ><img src=\"https://i.ytimg.com/vi/qh3-_pJCXPw/default.jpg\"/></td> \n",
       "        <td id=\"T_bbe2585c_ebe7_11e8_bbe6_ed960abbbf28row6_col1\" class=\"data row6 col1\" >Jennis</td> \n",
       "        <td id=\"T_bbe2585c_ebe7_11e8_bbe6_ed960abbbf28row6_col2\" class=\"data row6 col2\" >118,209</td> \n",
       "        <td id=\"T_bbe2585c_ebe7_11e8_bbe6_ed960abbbf28row6_col3\" class=\"data row6 col3\" >5.59%</td> \n",
       "        <td id=\"T_bbe2585c_ebe7_11e8_bbe6_ed960abbbf28row6_col4\" class=\"data row6 col4\" >0.09%</td> \n",
       "        <td id=\"T_bbe2585c_ebe7_11e8_bbe6_ed960abbbf28row6_col5\" class=\"data row6 col5\" >0.41%</td> \n",
       "        <td id=\"T_bbe2585c_ebe7_11e8_bbe6_ed960abbbf28row6_col6\" class=\"data row6 col6\" >80</td> \n",
       "    </tr>    <tr> \n",
       "        <th id=\"T_bbe2585c_ebe7_11e8_bbe6_ed960abbbf28level0_row7\" class=\"row_heading level0 row7\" >8</th> \n",
       "        <td id=\"T_bbe2585c_ebe7_11e8_bbe6_ed960abbbf28row7_col0\" class=\"data row7 col0\" ><img src=\"https://i.ytimg.com/vi/ulsdsRTzK0c/default.jpg\"/></td> \n",
       "        <td id=\"T_bbe2585c_ebe7_11e8_bbe6_ed960abbbf28row7_col1\" class=\"data row7 col1\" >Orn</td> \n",
       "        <td id=\"T_bbe2585c_ebe7_11e8_bbe6_ed960abbbf28row7_col2\" class=\"data row7 col2\" >113,724</td> \n",
       "        <td id=\"T_bbe2585c_ebe7_11e8_bbe6_ed960abbbf28row7_col3\" class=\"data row7 col3\" >5.03%</td> \n",
       "        <td id=\"T_bbe2585c_ebe7_11e8_bbe6_ed960abbbf28row7_col4\" class=\"data row7 col4\" >0.12%</td> \n",
       "        <td id=\"T_bbe2585c_ebe7_11e8_bbe6_ed960abbbf28row7_col5\" class=\"data row7 col5\" >0.47%</td> \n",
       "        <td id=\"T_bbe2585c_ebe7_11e8_bbe6_ed960abbbf28row7_col6\" class=\"data row7 col6\" >68</td> \n",
       "    </tr>    <tr> \n",
       "        <th id=\"T_bbe2585c_ebe7_11e8_bbe6_ed960abbbf28level0_row8\" class=\"row_heading level0 row8\" >9</th> \n",
       "        <td id=\"T_bbe2585c_ebe7_11e8_bbe6_ed960abbbf28row8_col0\" class=\"data row8 col0\" ><img src=\"https://i.ytimg.com/vi/sGPvK_XnmAM/default.jpg\"/></td> \n",
       "        <td id=\"T_bbe2585c_ebe7_11e8_bbe6_ed960abbbf28row8_col1\" class=\"data row8 col1\" >Namneung</td> \n",
       "        <td id=\"T_bbe2585c_ebe7_11e8_bbe6_ed960abbbf28row8_col2\" class=\"data row8 col2\" >106,879</td> \n",
       "        <td id=\"T_bbe2585c_ebe7_11e8_bbe6_ed960abbbf28row8_col3\" class=\"data row8 col3\" >6.77%</td> \n",
       "        <td id=\"T_bbe2585c_ebe7_11e8_bbe6_ed960abbbf28row8_col4\" class=\"data row8 col4\" >0.03%</td> \n",
       "        <td id=\"T_bbe2585c_ebe7_11e8_bbe6_ed960abbbf28row8_col5\" class=\"data row8 col5\" >0.98%</td> \n",
       "        <td id=\"T_bbe2585c_ebe7_11e8_bbe6_ed960abbbf28row8_col6\" class=\"data row8 col6\" >89</td> \n",
       "    </tr>    <tr> \n",
       "        <th id=\"T_bbe2585c_ebe7_11e8_bbe6_ed960abbbf28level0_row9\" class=\"row_heading level0 row9\" >10</th> \n",
       "        <td id=\"T_bbe2585c_ebe7_11e8_bbe6_ed960abbbf28row9_col0\" class=\"data row9 col0\" ><img src=\"https://i.ytimg.com/vi/akWfxC2jI5Q/default.jpg\"/></td> \n",
       "        <td id=\"T_bbe2585c_ebe7_11e8_bbe6_ed960abbbf28row9_col1\" class=\"data row9 col1\" >Tarwaan</td> \n",
       "        <td id=\"T_bbe2585c_ebe7_11e8_bbe6_ed960abbbf28row9_col2\" class=\"data row9 col2\" >102,601</td> \n",
       "        <td id=\"T_bbe2585c_ebe7_11e8_bbe6_ed960abbbf28row9_col3\" class=\"data row9 col3\" >4.71%</td> \n",
       "        <td id=\"T_bbe2585c_ebe7_11e8_bbe6_ed960abbbf28row9_col4\" class=\"data row9 col4\" >0.04%</td> \n",
       "        <td id=\"T_bbe2585c_ebe7_11e8_bbe6_ed960abbbf28row9_col5\" class=\"data row9 col5\" >0.38%</td> \n",
       "        <td id=\"T_bbe2585c_ebe7_11e8_bbe6_ed960abbbf28row9_col6\" class=\"data row9 col6\" >106</td> \n",
       "    </tr></tbody> \n",
       "</table> "
      ],
      "text/plain": [
       "<IPython.core.display.HTML object>"
      ]
     },
     "metadata": {},
     "output_type": "display_data"
    }
   ],
   "source": [
    "df = videos[['image','name','view','like_pct','dislike_pct','comment_pct','duration']]\n",
    "df.columns = ['Image','Member','View','% Liked','% Disliked','% Commented','Duration']\n",
    "\n",
    "# Top Views\n",
    "data = df.sort_values('View', ascending=False)[:10]\n",
    "data.index = np.arange(1, data.shape[0]+1)\n",
    "\n",
    "# Render table in html\n",
    "display(HTML(\n",
    "    data.style\n",
    "        .format(formatters)\n",
    "        .set_table_styles(styles)\n",
    "        .render()\n",
    "))"
   ]
  },
  {
   "cell_type": "markdown",
   "metadata": {},
   "source": [
    "### Top 10 - % Liked"
   ]
  },
  {
   "cell_type": "code",
   "execution_count": 20,
   "metadata": {},
   "outputs": [
    {
     "data": {
      "text/html": [
       "<style  type=\"text/css\" >\n",
       "    #T_bf1de524_ebe7_11e8_80d6_ed960abbbf28 th {\n",
       "          padding: 4px 4px;\n",
       "          font-weight: bold;\n",
       "          color: #6d6d6d;\n",
       "          background-color: #f7f7f9;\n",
       "    }    #T_bf1de524_ebe7_11e8_80d6_ed960abbbf28 td {\n",
       "          padding: 2px 4px;\n",
       "          font-size: smaller;\n",
       "    }    #T_bf1de524_ebe7_11e8_80d6_ed960abbbf28 img {\n",
       "          width: auto;\n",
       "          height: 75%;\n",
       "    }    #T_bf1de524_ebe7_11e8_80d6_ed960abbbf28 tr:nth-child(even) {\n",
       "          background: #f7f7f9;\n",
       "    }</style>  \n",
       "<table id=\"T_bf1de524_ebe7_11e8_80d6_ed960abbbf28\" > \n",
       "<thead>    <tr> \n",
       "        <th class=\"blank level0\" ></th> \n",
       "        <th class=\"col_heading level0 col0\" >Image</th> \n",
       "        <th class=\"col_heading level0 col1\" >Member</th> \n",
       "        <th class=\"col_heading level0 col2\" >View</th> \n",
       "        <th class=\"col_heading level0 col3\" >% Liked</th> \n",
       "        <th class=\"col_heading level0 col4\" >% Disliked</th> \n",
       "        <th class=\"col_heading level0 col5\" >% Commented</th> \n",
       "        <th class=\"col_heading level0 col6\" >Duration</th> \n",
       "    </tr></thead> \n",
       "<tbody>    <tr> \n",
       "        <th id=\"T_bf1de524_ebe7_11e8_80d6_ed960abbbf28level0_row0\" class=\"row_heading level0 row0\" >1</th> \n",
       "        <td id=\"T_bf1de524_ebe7_11e8_80d6_ed960abbbf28row0_col0\" class=\"data row0 col0\" ><img src=\"https://i.ytimg.com/vi/sGPvK_XnmAM/default.jpg\"/></td> \n",
       "        <td id=\"T_bf1de524_ebe7_11e8_80d6_ed960abbbf28row0_col1\" class=\"data row0 col1\" >Namneung</td> \n",
       "        <td id=\"T_bf1de524_ebe7_11e8_80d6_ed960abbbf28row0_col2\" class=\"data row0 col2\" >106,879</td> \n",
       "        <td id=\"T_bf1de524_ebe7_11e8_80d6_ed960abbbf28row0_col3\" class=\"data row0 col3\" >6.77%</td> \n",
       "        <td id=\"T_bf1de524_ebe7_11e8_80d6_ed960abbbf28row0_col4\" class=\"data row0 col4\" >0.03%</td> \n",
       "        <td id=\"T_bf1de524_ebe7_11e8_80d6_ed960abbbf28row0_col5\" class=\"data row0 col5\" >0.98%</td> \n",
       "        <td id=\"T_bf1de524_ebe7_11e8_80d6_ed960abbbf28row0_col6\" class=\"data row0 col6\" >89</td> \n",
       "    </tr>    <tr> \n",
       "        <th id=\"T_bf1de524_ebe7_11e8_80d6_ed960abbbf28level0_row1\" class=\"row_heading level0 row1\" >2</th> \n",
       "        <td id=\"T_bf1de524_ebe7_11e8_80d6_ed960abbbf28row1_col0\" class=\"data row1 col0\" ><img src=\"https://i.ytimg.com/vi/usvrekLfc6M/default.jpg\"/></td> \n",
       "        <td id=\"T_bf1de524_ebe7_11e8_80d6_ed960abbbf28row1_col1\" class=\"data row1 col1\" >Wee</td> \n",
       "        <td id=\"T_bf1de524_ebe7_11e8_80d6_ed960abbbf28row1_col2\" class=\"data row1 col2\" >95,777</td> \n",
       "        <td id=\"T_bf1de524_ebe7_11e8_80d6_ed960abbbf28row1_col3\" class=\"data row1 col3\" >6.58%</td> \n",
       "        <td id=\"T_bf1de524_ebe7_11e8_80d6_ed960abbbf28row1_col4\" class=\"data row1 col4\" >0.10%</td> \n",
       "        <td id=\"T_bf1de524_ebe7_11e8_80d6_ed960abbbf28row1_col5\" class=\"data row1 col5\" >0.72%</td> \n",
       "        <td id=\"T_bf1de524_ebe7_11e8_80d6_ed960abbbf28row1_col6\" class=\"data row1 col6\" >107</td> \n",
       "    </tr>    <tr> \n",
       "        <th id=\"T_bf1de524_ebe7_11e8_80d6_ed960abbbf28level0_row2\" class=\"row_heading level0 row2\" >3</th> \n",
       "        <td id=\"T_bf1de524_ebe7_11e8_80d6_ed960abbbf28row2_col0\" class=\"data row2 col0\" ><img src=\"https://i.ytimg.com/vi/SgbxVmzjC6w/default.jpg\"/></td> \n",
       "        <td id=\"T_bf1de524_ebe7_11e8_80d6_ed960abbbf28row2_col1\" class=\"data row2 col1\" >Kaew</td> \n",
       "        <td id=\"T_bf1de524_ebe7_11e8_80d6_ed960abbbf28row2_col2\" class=\"data row2 col2\" >87,898</td> \n",
       "        <td id=\"T_bf1de524_ebe7_11e8_80d6_ed960abbbf28row2_col3\" class=\"data row2 col3\" >6.46%</td> \n",
       "        <td id=\"T_bf1de524_ebe7_11e8_80d6_ed960abbbf28row2_col4\" class=\"data row2 col4\" >0.05%</td> \n",
       "        <td id=\"T_bf1de524_ebe7_11e8_80d6_ed960abbbf28row2_col5\" class=\"data row2 col5\" >0.57%</td> \n",
       "        <td id=\"T_bf1de524_ebe7_11e8_80d6_ed960abbbf28row2_col6\" class=\"data row2 col6\" >120</td> \n",
       "    </tr>    <tr> \n",
       "        <th id=\"T_bf1de524_ebe7_11e8_80d6_ed960abbbf28level0_row3\" class=\"row_heading level0 row3\" >4</th> \n",
       "        <td id=\"T_bf1de524_ebe7_11e8_80d6_ed960abbbf28row3_col0\" class=\"data row3 col0\" ><img src=\"https://i.ytimg.com/vi/iWwHEn8dhrI/default.jpg\"/></td> \n",
       "        <td id=\"T_bf1de524_ebe7_11e8_80d6_ed960abbbf28row3_col1\" class=\"data row3 col1\" >Phukkhom</td> \n",
       "        <td id=\"T_bf1de524_ebe7_11e8_80d6_ed960abbbf28row3_col2\" class=\"data row3 col2\" >84,197</td> \n",
       "        <td id=\"T_bf1de524_ebe7_11e8_80d6_ed960abbbf28row3_col3\" class=\"data row3 col3\" >6.21%</td> \n",
       "        <td id=\"T_bf1de524_ebe7_11e8_80d6_ed960abbbf28row3_col4\" class=\"data row3 col4\" >0.08%</td> \n",
       "        <td id=\"T_bf1de524_ebe7_11e8_80d6_ed960abbbf28row3_col5\" class=\"data row3 col5\" >0.53%</td> \n",
       "        <td id=\"T_bf1de524_ebe7_11e8_80d6_ed960abbbf28row3_col6\" class=\"data row3 col6\" >79</td> \n",
       "    </tr>    <tr> \n",
       "        <th id=\"T_bf1de524_ebe7_11e8_80d6_ed960abbbf28level0_row4\" class=\"row_heading level0 row4\" >5</th> \n",
       "        <td id=\"T_bf1de524_ebe7_11e8_80d6_ed960abbbf28row4_col0\" class=\"data row4 col0\" ><img src=\"https://i.ytimg.com/vi/IwbuyTc4p4c/default.jpg\"/></td> \n",
       "        <td id=\"T_bf1de524_ebe7_11e8_80d6_ed960abbbf28row4_col1\" class=\"data row4 col1\" >Pun</td> \n",
       "        <td id=\"T_bf1de524_ebe7_11e8_80d6_ed960abbbf28row4_col2\" class=\"data row4 col2\" >143,408</td> \n",
       "        <td id=\"T_bf1de524_ebe7_11e8_80d6_ed960abbbf28row4_col3\" class=\"data row4 col3\" >6.15%</td> \n",
       "        <td id=\"T_bf1de524_ebe7_11e8_80d6_ed960abbbf28row4_col4\" class=\"data row4 col4\" >0.07%</td> \n",
       "        <td id=\"T_bf1de524_ebe7_11e8_80d6_ed960abbbf28row4_col5\" class=\"data row4 col5\" >0.50%</td> \n",
       "        <td id=\"T_bf1de524_ebe7_11e8_80d6_ed960abbbf28row4_col6\" class=\"data row4 col6\" >85</td> \n",
       "    </tr>    <tr> \n",
       "        <th id=\"T_bf1de524_ebe7_11e8_80d6_ed960abbbf28level0_row5\" class=\"row_heading level0 row5\" >6</th> \n",
       "        <td id=\"T_bf1de524_ebe7_11e8_80d6_ed960abbbf28row5_col0\" class=\"data row5 col0\" ><img src=\"https://i.ytimg.com/vi/zIl4nbnnJ5M/default.jpg\"/></td> \n",
       "        <td id=\"T_bf1de524_ebe7_11e8_80d6_ed960abbbf28row5_col1\" class=\"data row5 col1\" >Gygee</td> \n",
       "        <td id=\"T_bf1de524_ebe7_11e8_80d6_ed960abbbf28row5_col2\" class=\"data row5 col2\" >55,735</td> \n",
       "        <td id=\"T_bf1de524_ebe7_11e8_80d6_ed960abbbf28row5_col3\" class=\"data row5 col3\" >6.07%</td> \n",
       "        <td id=\"T_bf1de524_ebe7_11e8_80d6_ed960abbbf28row5_col4\" class=\"data row5 col4\" >0.06%</td> \n",
       "        <td id=\"T_bf1de524_ebe7_11e8_80d6_ed960abbbf28row5_col5\" class=\"data row5 col5\" >0.68%</td> \n",
       "        <td id=\"T_bf1de524_ebe7_11e8_80d6_ed960abbbf28row5_col6\" class=\"data row5 col6\" >104</td> \n",
       "    </tr>    <tr> \n",
       "        <th id=\"T_bf1de524_ebe7_11e8_80d6_ed960abbbf28level0_row6\" class=\"row_heading level0 row6\" >7</th> \n",
       "        <td id=\"T_bf1de524_ebe7_11e8_80d6_ed960abbbf28row6_col0\" class=\"data row6 col0\" ><img src=\"https://i.ytimg.com/vi/9782oM1T1pg/default.jpg\"/></td> \n",
       "        <td id=\"T_bf1de524_ebe7_11e8_80d6_ed960abbbf28row6_col1\" class=\"data row6 col1\" >Izurina</td> \n",
       "        <td id=\"T_bf1de524_ebe7_11e8_80d6_ed960abbbf28row6_col2\" class=\"data row6 col2\" >53,131</td> \n",
       "        <td id=\"T_bf1de524_ebe7_11e8_80d6_ed960abbbf28row6_col3\" class=\"data row6 col3\" >6.01%</td> \n",
       "        <td id=\"T_bf1de524_ebe7_11e8_80d6_ed960abbbf28row6_col4\" class=\"data row6 col4\" >0.05%</td> \n",
       "        <td id=\"T_bf1de524_ebe7_11e8_80d6_ed960abbbf28row6_col5\" class=\"data row6 col5\" >0.54%</td> \n",
       "        <td id=\"T_bf1de524_ebe7_11e8_80d6_ed960abbbf28row6_col6\" class=\"data row6 col6\" >69</td> \n",
       "    </tr>    <tr> \n",
       "        <th id=\"T_bf1de524_ebe7_11e8_80d6_ed960abbbf28level0_row7\" class=\"row_heading level0 row7\" >8</th> \n",
       "        <td id=\"T_bf1de524_ebe7_11e8_80d6_ed960abbbf28row7_col0\" class=\"data row7 col0\" ><img src=\"https://i.ytimg.com/vi/Y8sNO94wQ90/default.jpg\"/></td> \n",
       "        <td id=\"T_bf1de524_ebe7_11e8_80d6_ed960abbbf28row7_col1\" class=\"data row7 col1\" >Myyu</td> \n",
       "        <td id=\"T_bf1de524_ebe7_11e8_80d6_ed960abbbf28row7_col2\" class=\"data row7 col2\" >42,216</td> \n",
       "        <td id=\"T_bf1de524_ebe7_11e8_80d6_ed960abbbf28row7_col3\" class=\"data row7 col3\" >5.84%</td> \n",
       "        <td id=\"T_bf1de524_ebe7_11e8_80d6_ed960abbbf28row7_col4\" class=\"data row7 col4\" >0.12%</td> \n",
       "        <td id=\"T_bf1de524_ebe7_11e8_80d6_ed960abbbf28row7_col5\" class=\"data row7 col5\" >0.41%</td> \n",
       "        <td id=\"T_bf1de524_ebe7_11e8_80d6_ed960abbbf28row7_col6\" class=\"data row7 col6\" >87</td> \n",
       "    </tr>    <tr> \n",
       "        <th id=\"T_bf1de524_ebe7_11e8_80d6_ed960abbbf28level0_row8\" class=\"row_heading level0 row8\" >9</th> \n",
       "        <td id=\"T_bf1de524_ebe7_11e8_80d6_ed960abbbf28row8_col0\" class=\"data row8 col0\" ><img src=\"https://i.ytimg.com/vi/r78Ss9ObGqk/default.jpg\"/></td> \n",
       "        <td id=\"T_bf1de524_ebe7_11e8_80d6_ed960abbbf28row8_col1\" class=\"data row8 col1\" >Pupe</td> \n",
       "        <td id=\"T_bf1de524_ebe7_11e8_80d6_ed960abbbf28row8_col2\" class=\"data row8 col2\" >192,861</td> \n",
       "        <td id=\"T_bf1de524_ebe7_11e8_80d6_ed960abbbf28row8_col3\" class=\"data row8 col3\" >5.65%</td> \n",
       "        <td id=\"T_bf1de524_ebe7_11e8_80d6_ed960abbbf28row8_col4\" class=\"data row8 col4\" >0.06%</td> \n",
       "        <td id=\"T_bf1de524_ebe7_11e8_80d6_ed960abbbf28row8_col5\" class=\"data row8 col5\" >0.55%</td> \n",
       "        <td id=\"T_bf1de524_ebe7_11e8_80d6_ed960abbbf28row8_col6\" class=\"data row8 col6\" >98</td> \n",
       "    </tr>    <tr> \n",
       "        <th id=\"T_bf1de524_ebe7_11e8_80d6_ed960abbbf28level0_row9\" class=\"row_heading level0 row9\" >10</th> \n",
       "        <td id=\"T_bf1de524_ebe7_11e8_80d6_ed960abbbf28row9_col0\" class=\"data row9 col0\" ><img src=\"https://i.ytimg.com/vi/PlBmrf9NvFA/default.jpg\"/></td> \n",
       "        <td id=\"T_bf1de524_ebe7_11e8_80d6_ed960abbbf28row9_col1\" class=\"data row9 col1\" >Cherprang</td> \n",
       "        <td id=\"T_bf1de524_ebe7_11e8_80d6_ed960abbbf28row9_col2\" class=\"data row9 col2\" >200,171</td> \n",
       "        <td id=\"T_bf1de524_ebe7_11e8_80d6_ed960abbbf28row9_col3\" class=\"data row9 col3\" >5.64%</td> \n",
       "        <td id=\"T_bf1de524_ebe7_11e8_80d6_ed960abbbf28row9_col4\" class=\"data row9 col4\" >0.10%</td> \n",
       "        <td id=\"T_bf1de524_ebe7_11e8_80d6_ed960abbbf28row9_col5\" class=\"data row9 col5\" >0.46%</td> \n",
       "        <td id=\"T_bf1de524_ebe7_11e8_80d6_ed960abbbf28row9_col6\" class=\"data row9 col6\" >71</td> \n",
       "    </tr></tbody> \n",
       "</table> "
      ],
      "text/plain": [
       "<IPython.core.display.HTML object>"
      ]
     },
     "metadata": {},
     "output_type": "display_data"
    }
   ],
   "source": [
    "# Top Views\n",
    "data = df.sort_values('% Liked', ascending=False)[:10]\n",
    "data.index = np.arange(1, data.shape[0]+1)\n",
    "\n",
    "# Render table in html\n",
    "display(HTML(\n",
    "    data.style\n",
    "        .format(formatters)\n",
    "        .set_table_styles(styles)\n",
    "        .render()\n",
    "))"
   ]
  },
  {
   "cell_type": "markdown",
   "metadata": {},
   "source": [
    "### Distributions"
   ]
  },
  {
   "cell_type": "code",
   "execution_count": 21,
   "metadata": {},
   "outputs": [
    {
     "data": {
      "image/png": "[encoded data removed]",
      "text/plain": [
       "<Figure size 720x576 with 4 Axes>"
      ]
     },
     "metadata": {},
     "output_type": "display_data"
    }
   ],
   "source": [
    "sns.set_style('whitegrid')\n",
    "\n",
    "f, axes = plt.subplots(2,2, figsize=(10,8))\n",
    "kws=dict(edgecolor='white', linewidth=1)\n",
    "\n",
    "ax = sns.distplot(videos['view'], axlabel='View', \n",
    "                  kde=False, ax=axes[0,0], color='steelblue', hist_kws=kws)\n",
    "ax.set_title('View Distribution')\n",
    "\n",
    "ax = sns.distplot(videos['comment_pct'], axlabel='% Comment', \n",
    "                  kde=False, ax=axes[0,1], color='orange', hist_kws=kws)\n",
    "ax.set_title('% Comment Distribution')\n",
    "\n",
    "ax = sns.distplot(videos['like_pct'], axlabel='% Like', \n",
    "                  kde=False, ax=axes[1,0], color='green', hist_kws=kws)\n",
    "ax.set_title('% Like Distribution')\n",
    "\n",
    "ax = sns.distplot(videos['dislike_pct'], axlabel='% Dislike', \n",
    "                  kde=False, ax=axes[1,1], color='red', hist_kws=kws)\n",
    "ax.set_title('% Dislike Distribution')\n",
    "\n",
    "plt.tight_layout();\n"
   ]
  },
  {
   "cell_type": "markdown",
   "metadata": {},
   "source": [
    "### How do viewers interact with the videos?"
   ]
  },
  {
   "cell_type": "code",
   "execution_count": 22,
   "metadata": {},
   "outputs": [
    {
     "data": {
      "image/png": "[encoded data removed]",
      "text/plain": [
       "<Figure size 360x360 with 1 Axes>"
      ]
     },
     "metadata": {},
     "output_type": "display_data"
    }
   ],
   "source": [
    "plt.figure(figsize=(5,5))\n",
    "sns.boxplot(data=videos[['like_pct','dislike_pct','comment_pct']])\n",
    "plt.title('Interaction rate per view');"
   ]
  },
  {
   "cell_type": "markdown",
   "metadata": {},
   "source": [
    "### Bar plots"
   ]
  },
  {
   "cell_type": "code",
   "execution_count": null,
   "metadata": {},
   "outputs": [],
   "source": [
    "f, axes = plt.subplots(3,1, figsize=(18,12), dpi=100)\n",
    "df.index = df['Member']\n",
    "df.sort_values('View', ascending=False)['View'].plot.bar(rot=65, title='View', ax=axes[0], color='steelblue')\n",
    "(df.sort_values('% Liked', ascending=False)['% Liked']).plot.bar(rot=65, title='Like per View Percentage', ax=axes[1], color='green')\n",
    "(df.sort_values('% Commented', ascending=False)['% Commented']).plot.bar(rot=65, title='Comment per View Percentage', ax=axes[2], color='orange')\n",
    "plt.tight_layout();"
   ]
  },
  {
   "cell_type": "code",
   "execution_count": null,
   "metadata": {},
   "outputs": [],
   "source": [
    "# Loading member info for further analysis\n",
    "member_info = pd.read_csv('datasets/bnk48member_info.csv')\n",
    "member_info = member_info.query('active == 1')\n",
    "\n",
    "member_info['name'] = member_info['name'].replace({'June':'Juné', 'Rina': 'Izurina'})\n",
    "\n",
    "member_info.index = member_info['name']\n",
    "member_info.head()"
   ]
  },
  {
   "cell_type": "code",
   "execution_count": null,
   "metadata": {},
   "outputs": [],
   "source": [
    "from pandas.tools.plotting import parallel_coordinates\n",
    "\n",
    "data = videos[['view','like_pct','comment_pct','dislike_pct']]\n",
    "data = (data - data.min(axis=0)) / (data.max(axis=0) - data.min(axis=0))\n",
    "data = data.join(member_info['generation'])\n",
    "\n",
    "parallel_coordinates(data, 'generation', colormap='Set3');"
   ]
  },
  {
   "cell_type": "markdown",
   "metadata": {},
   "source": [
    "### Scatter plots"
   ]
  },
  {
   "cell_type": "code",
   "execution_count": null,
   "metadata": {},
   "outputs": [],
   "source": [
    "fb = pd.read_csv('datasets/fb_2018-11-19.csv', names=['name','datetime','fans'], header=0, parse_dates=['datetime'])\n",
    "\n",
    "fb_name_mapper = member_info.set_index('fb_name')['name']\n",
    "\n",
    "fb = fb.assign(name = fb['name'].map(fb_name_mapper)).dropna()\n",
    "fb_fans = fb.groupby('name')['fans'].max()"
   ]
  },
  {
   "cell_type": "code",
   "execution_count": null,
   "metadata": {},
   "outputs": [],
   "source": [
    "plt.figure(figsize=(6,4),dpi=100)\n",
    "temp = videos.join(fb_fans, on='name')\n",
    "temp['like_pct'] = temp['like_pct']\n",
    "temp['comment_pct'] = temp['comment_pct']\n",
    "\n",
    "sns.regplot(x='fans', y='view', data=temp)\n",
    "plt.xlabel('Facebook Fans');\n",
    "plt.title('Facebook Fans vs Youtube View');\n",
    "# plt.ylabel('')"
   ]
  },
  {
   "cell_type": "code",
   "execution_count": null,
   "metadata": {},
   "outputs": [],
   "source": [
    "plt.figure(figsize=(6,4),dpi=100)\n",
    "sns.regplot(x='fans', y='like_pct', data=temp)\n",
    "plt.xlabel('Facebook Fans');\n",
    "plt.title('Facebook Fans vs % Like');"
   ]
  },
  {
   "cell_type": "code",
   "execution_count": null,
   "metadata": {},
   "outputs": [],
   "source": [
    "plt.figure(figsize=(6,4),dpi=100)\n",
    "sns.regplot(x='fans', y='comment_pct', data=temp)\n",
    "plt.xlabel('Facebook Fans');\n",
    "plt.title('Facebook Fans vs % Comment');"
   ]
  },
  {
   "cell_type": "markdown",
   "metadata": {},
   "source": [
    "## Correlation"
   ]
  },
  {
   "cell_type": "code",
   "execution_count": null,
   "metadata": {},
   "outputs": [],
   "source": [
    "cols = ['view','like','dislike','comment','like_pct','dislike_pct', 'comment_pct']\n",
    "corr = videos[cols].corr()\n",
    "\n",
    "plt.figure(figsize=(7.5,5))\n",
    "mask = np.zeros_like(corr, dtype=np.bool)\n",
    "mask[np.triu_indices_from(mask)] = True\n",
    "ax = sns.heatmap(corr, mask=mask, cmap='RdYlGn', annot=True, fmt='.2f', vmin=-1.0, vmax=1.0)\n",
    "\n",
    "ax.set_title('Video Statistics Correlations');"
   ]
  },
  {
   "cell_type": "code",
   "execution_count": null,
   "metadata": {},
   "outputs": [],
   "source": []
  }
 ],
 "metadata": {
  "kernelspec": {
   "display_name": "Python 3",
   "language": "python",
   "name": "python3"
  },
  "language_info": {
   "codemirror_mode": {
    "name": "ipython",
    "version": 3
   },
   "file_extension": ".py",
   "mimetype": "text/x-python",
   "name": "python",
   "nbconvert_exporter": "python",
   "pygments_lexer": "ipython3",
   "version": "3.7.0"
  }
 },
 "nbformat": 4,
 "nbformat_minor": 2
}
